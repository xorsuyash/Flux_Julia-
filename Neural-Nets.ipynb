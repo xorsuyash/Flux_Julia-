{
 "cells": [
  {
   "cell_type": "code",
   "execution_count": 1,
   "id": "31cb53fe",
   "metadata": {},
   "outputs": [],
   "source": [
    " using Flux , Plots "
   ]
  },
  {
   "cell_type": "code",
   "execution_count": 2,
   "id": "9958e25b",
   "metadata": {},
   "outputs": [
    {
     "name": "stdout",
     "output_type": "stream",
     "text": [
      "\"\u001b[36mσ\u001b[39m\" can be typed by \u001b[36m\\sigma<tab>\u001b[39m\n",
      "\n",
      "search: \u001b[0m\u001b[1mσ\u001b[22m log\u001b[0m\u001b[1mσ\u001b[22m hard\u001b[0m\u001b[1mσ\u001b[22m\n",
      "\n"
     ]
    },
    {
     "data": {
      "text/latex": [
       "\\begin{verbatim}\n",
       "σ(x) = 1 / (1 + exp(-x))\n",
       "\\end{verbatim}\n",
       "Classic \\href{https://en.wikipedia.org/wiki/Sigmoid_function}{sigmoid} activation function. Unicode \\texttt{σ} can be entered as \\texttt{{\\textbackslash}sigma} then tab, in many editors. The ascii name \\texttt{sigmoid} is also exported.\n",
       "\n",
       "See also \\href{@ref}{\\texttt{sigmoid\\_fast}}.\n",
       "\n",
       "\\begin{verbatim}\n",
       "julia> using UnicodePlots\n",
       "\n",
       "julia> lineplot(sigmoid, -5, 5, height=7)\n",
       "          ┌────────────────────────────────────────┐     \n",
       "        1 │⠀⠀⠀⠀⠀⠀⠀⠀⠀⠀⠀⠀⠀⠀⠀⠀⠀⠀⠀⠀⡇⠀⠀⠀⠀⠀⠀⣀⡠⠤⠖⠒⠒⠋⠉⠉⠉⠉⠉⠉│ σ(x)\n",
       "          │⠀⠀⠀⠀⠀⠀⠀⠀⠀⠀⠀⠀⠀⠀⠀⠀⠀⠀⠀⠀⡇⠀⠀⢀⡠⠖⠋⠁⠀⠀⠀⠀⠀⠀⠀⠀⠀⠀⠀⠀│     \n",
       "          │⠀⠀⠀⠀⠀⠀⠀⠀⠀⠀⠀⠀⠀⠀⠀⠀⠀⠀⠀⠀⡇⣀⠔⠁⠀⠀⠀⠀⠀⠀⠀⠀⠀⠀⠀⠀⠀⠀⠀⠀│     \n",
       "   f(x)   │⠀⠀⠀⠀⠀⠀⠀⠀⠀⠀⠀⠀⠀⠀⠀⠀⠀⠀⠀⡠⡏⠁⠀⠀⠀⠀⠀⠀⠀⠀⠀⠀⠀⠀⠀⠀⠀⠀⠀⠀│     \n",
       "          │⠀⠀⠀⠀⠀⠀⠀⠀⠀⠀⠀⠀⠀⠀⠀⠀⢀⡔⠋⠀⡇⠀⠀⠀⠀⠀⠀⠀⠀⠀⠀⠀⠀⠀⠀⠀⠀⠀⠀⠀│     \n",
       "          │⠀⠀⠀⠀⠀⠀⠀⠀⠀⠀⠀⠀⠀⣀⠤⠊⠁⠀⠀⠀⡇⠀⠀⠀⠀⠀⠀⠀⠀⠀⠀⠀⠀⠀⠀⠀⠀⠀⠀⠀│     \n",
       "        0 │⣀⣀⣀⣀⣀⣀⣀⠤⠤⠤⠒⠊⠉⠀⠀⠀⠀⠀⠀⠀⡇⠀⠀⠀⠀⠀⠀⠀⠀⠀⠀⠀⠀⠀⠀⠀⠀⠀⠀⠀│     \n",
       "          └────────────────────────────────────────┘     \n",
       "          ⠀-5⠀⠀⠀⠀⠀⠀⠀⠀⠀⠀⠀⠀⠀⠀⠀⠀⠀⠀⠀⠀⠀⠀⠀⠀⠀⠀⠀⠀⠀⠀⠀⠀⠀⠀⠀⠀⠀5⠀     \n",
       "          ⠀⠀⠀⠀⠀⠀⠀⠀⠀⠀⠀⠀⠀⠀⠀⠀⠀⠀⠀⠀⠀x⠀⠀⠀⠀⠀⠀⠀⠀⠀⠀⠀⠀⠀⠀⠀⠀⠀⠀⠀⠀     \n",
       "\n",
       "julia> sigmoid === σ\n",
       "true\n",
       "\\end{verbatim}\n"
      ],
      "text/markdown": [
       "```\n",
       "σ(x) = 1 / (1 + exp(-x))\n",
       "```\n",
       "\n",
       "Classic [sigmoid](https://en.wikipedia.org/wiki/Sigmoid_function) activation function. Unicode `σ` can be entered as `\\sigma` then tab, in many editors. The ascii name `sigmoid` is also exported.\n",
       "\n",
       "See also [`sigmoid_fast`](@ref).\n",
       "\n",
       "```\n",
       "julia> using UnicodePlots\n",
       "\n",
       "julia> lineplot(sigmoid, -5, 5, height=7)\n",
       "          ┌────────────────────────────────────────┐     \n",
       "        1 │⠀⠀⠀⠀⠀⠀⠀⠀⠀⠀⠀⠀⠀⠀⠀⠀⠀⠀⠀⠀⡇⠀⠀⠀⠀⠀⠀⣀⡠⠤⠖⠒⠒⠋⠉⠉⠉⠉⠉⠉│ σ(x)\n",
       "          │⠀⠀⠀⠀⠀⠀⠀⠀⠀⠀⠀⠀⠀⠀⠀⠀⠀⠀⠀⠀⡇⠀⠀⢀⡠⠖⠋⠁⠀⠀⠀⠀⠀⠀⠀⠀⠀⠀⠀⠀│     \n",
       "          │⠀⠀⠀⠀⠀⠀⠀⠀⠀⠀⠀⠀⠀⠀⠀⠀⠀⠀⠀⠀⡇⣀⠔⠁⠀⠀⠀⠀⠀⠀⠀⠀⠀⠀⠀⠀⠀⠀⠀⠀│     \n",
       "   f(x)   │⠀⠀⠀⠀⠀⠀⠀⠀⠀⠀⠀⠀⠀⠀⠀⠀⠀⠀⠀⡠⡏⠁⠀⠀⠀⠀⠀⠀⠀⠀⠀⠀⠀⠀⠀⠀⠀⠀⠀⠀│     \n",
       "          │⠀⠀⠀⠀⠀⠀⠀⠀⠀⠀⠀⠀⠀⠀⠀⠀⢀⡔⠋⠀⡇⠀⠀⠀⠀⠀⠀⠀⠀⠀⠀⠀⠀⠀⠀⠀⠀⠀⠀⠀│     \n",
       "          │⠀⠀⠀⠀⠀⠀⠀⠀⠀⠀⠀⠀⠀⣀⠤⠊⠁⠀⠀⠀⡇⠀⠀⠀⠀⠀⠀⠀⠀⠀⠀⠀⠀⠀⠀⠀⠀⠀⠀⠀│     \n",
       "        0 │⣀⣀⣀⣀⣀⣀⣀⠤⠤⠤⠒⠊⠉⠀⠀⠀⠀⠀⠀⠀⡇⠀⠀⠀⠀⠀⠀⠀⠀⠀⠀⠀⠀⠀⠀⠀⠀⠀⠀⠀│     \n",
       "          └────────────────────────────────────────┘     \n",
       "          ⠀-5⠀⠀⠀⠀⠀⠀⠀⠀⠀⠀⠀⠀⠀⠀⠀⠀⠀⠀⠀⠀⠀⠀⠀⠀⠀⠀⠀⠀⠀⠀⠀⠀⠀⠀⠀⠀⠀5⠀     \n",
       "          ⠀⠀⠀⠀⠀⠀⠀⠀⠀⠀⠀⠀⠀⠀⠀⠀⠀⠀⠀⠀⠀x⠀⠀⠀⠀⠀⠀⠀⠀⠀⠀⠀⠀⠀⠀⠀⠀⠀⠀⠀⠀     \n",
       "\n",
       "julia> sigmoid === σ\n",
       "true\n",
       "```\n"
      ],
      "text/plain": [
       "\u001b[36m  σ(x) = 1 / (1 + exp(-x))\u001b[39m\n",
       "\n",
       "  Classic sigmoid (https://en.wikipedia.org/wiki/Sigmoid_function) activation\n",
       "  function. Unicode \u001b[36mσ\u001b[39m can be entered as \u001b[36m\\sigma\u001b[39m then tab, in many editors. The\n",
       "  ascii name \u001b[36msigmoid\u001b[39m is also exported.\n",
       "\n",
       "  See also \u001b[36msigmoid_fast\u001b[39m.\n",
       "\n",
       "\u001b[36m  julia> using UnicodePlots\u001b[39m\n",
       "\u001b[36m  \u001b[39m\n",
       "\u001b[36m  julia> lineplot(sigmoid, -5, 5, height=7)\u001b[39m\n",
       "\u001b[36m            ┌────────────────────────────────────────┐     \u001b[39m\n",
       "\u001b[36m          1 │⠀⠀⠀⠀⠀⠀⠀⠀⠀⠀⠀⠀⠀⠀⠀⠀⠀⠀⠀⠀⡇⠀⠀⠀⠀⠀⠀⣀⡠⠤⠖⠒⠒⠋⠉⠉⠉⠉⠉⠉│ σ(x)\u001b[39m\n",
       "\u001b[36m            │⠀⠀⠀⠀⠀⠀⠀⠀⠀⠀⠀⠀⠀⠀⠀⠀⠀⠀⠀⠀⡇⠀⠀⢀⡠⠖⠋⠁⠀⠀⠀⠀⠀⠀⠀⠀⠀⠀⠀⠀│     \u001b[39m\n",
       "\u001b[36m            │⠀⠀⠀⠀⠀⠀⠀⠀⠀⠀⠀⠀⠀⠀⠀⠀⠀⠀⠀⠀⡇⣀⠔⠁⠀⠀⠀⠀⠀⠀⠀⠀⠀⠀⠀⠀⠀⠀⠀⠀│     \u001b[39m\n",
       "\u001b[36m     f(x)   │⠀⠀⠀⠀⠀⠀⠀⠀⠀⠀⠀⠀⠀⠀⠀⠀⠀⠀⠀⡠⡏⠁⠀⠀⠀⠀⠀⠀⠀⠀⠀⠀⠀⠀⠀⠀⠀⠀⠀⠀│     \u001b[39m\n",
       "\u001b[36m            │⠀⠀⠀⠀⠀⠀⠀⠀⠀⠀⠀⠀⠀⠀⠀⠀⢀⡔⠋⠀⡇⠀⠀⠀⠀⠀⠀⠀⠀⠀⠀⠀⠀⠀⠀⠀⠀⠀⠀⠀│     \u001b[39m\n",
       "\u001b[36m            │⠀⠀⠀⠀⠀⠀⠀⠀⠀⠀⠀⠀⠀⣀⠤⠊⠁⠀⠀⠀⡇⠀⠀⠀⠀⠀⠀⠀⠀⠀⠀⠀⠀⠀⠀⠀⠀⠀⠀⠀│     \u001b[39m\n",
       "\u001b[36m          0 │⣀⣀⣀⣀⣀⣀⣀⠤⠤⠤⠒⠊⠉⠀⠀⠀⠀⠀⠀⠀⡇⠀⠀⠀⠀⠀⠀⠀⠀⠀⠀⠀⠀⠀⠀⠀⠀⠀⠀⠀│     \u001b[39m\n",
       "\u001b[36m            └────────────────────────────────────────┘     \u001b[39m\n",
       "\u001b[36m            ⠀-5⠀⠀⠀⠀⠀⠀⠀⠀⠀⠀⠀⠀⠀⠀⠀⠀⠀⠀⠀⠀⠀⠀⠀⠀⠀⠀⠀⠀⠀⠀⠀⠀⠀⠀⠀⠀⠀5⠀     \u001b[39m\n",
       "\u001b[36m            ⠀⠀⠀⠀⠀⠀⠀⠀⠀⠀⠀⠀⠀⠀⠀⠀⠀⠀⠀⠀⠀x⠀⠀⠀⠀⠀⠀⠀⠀⠀⠀⠀⠀⠀⠀⠀⠀⠀⠀⠀⠀     \u001b[39m\n",
       "\u001b[36m  \u001b[39m\n",
       "\u001b[36m  julia> sigmoid === σ\u001b[39m\n",
       "\u001b[36m  true\u001b[39m"
      ]
     },
     "execution_count": 2,
     "metadata": {},
     "output_type": "execute_result"
    }
   ],
   "source": [
    "?σ\n"
   ]
  },
  {
   "cell_type": "code",
   "execution_count": 3,
   "id": "38b94935",
   "metadata": {},
   "outputs": [
    {
     "data": {
      "text/plain": [
       "Dense(2 => 1, σ)    \u001b[90m# 3 parameters\u001b[39m"
      ]
     },
     "execution_count": 3,
     "metadata": {},
     "output_type": "execute_result"
    }
   ],
   "source": [
    "model=Dense(2,1,σ)"
   ]
  },
  {
   "cell_type": "code",
   "execution_count": 4,
   "id": "1b4e3908",
   "metadata": {},
   "outputs": [
    {
     "data": {
      "text/latex": [
       "\\begin{verbatim}\n",
       "Dense(in => out, σ=identity; bias=true, init=glorot_uniform)\n",
       "Dense(W::AbstractMatrix, [bias, σ])\n",
       "\\end{verbatim}\n",
       "Create a traditional fully connected layer, whose forward pass is given by:\n",
       "\n",
       "\\begin{verbatim}\n",
       "y = σ.(W * x .+ bias)\n",
       "\\end{verbatim}\n",
       "The input \\texttt{x} should be a vector of length \\texttt{in}, or batch of vectors represented as an \\texttt{in × N} matrix, or any array with \\texttt{size(x,1) == in}. The out \\texttt{y} will be a vector  of length \\texttt{out}, or a batch with \\texttt{size(y) == (out, size(x)[2:end]...)}\n",
       "\n",
       "Keyword \\texttt{bias=false} will switch off trainable bias for the layer. The initialisation of the weight matrix is \\texttt{W = init(out, in)}, calling the function given to keyword \\texttt{init}, with default \\href{@ref Flux.glorot_uniform}{\\texttt{glorot\\_uniform}}. The weight matrix and/or the bias vector (of length \\texttt{out}) may also be provided explicitly.\n",
       "\n",
       "\\section{Examples}\n",
       "\\begin{verbatim}\n",
       "julia> d = Dense(5 => 2)\n",
       "Dense(5 => 2)       # 12 parameters\n",
       "\n",
       "julia> d(rand(Float32, 5, 64)) |> size\n",
       "(2, 64)\n",
       "\n",
       "julia> d(rand(Float32, 5, 1, 1, 64)) |> size  # treated as three batch dimensions\n",
       "(2, 1, 1, 64)\n",
       "\n",
       "julia> d1 = Dense(ones(2, 5), false, tanh)  # using provided weight matrix\n",
       "Dense(5 => 2, tanh; bias=false)  # 10 parameters\n",
       "\n",
       "julia> d1(ones(5))\n",
       "2-element Vector{Float64}:\n",
       " 0.9999092042625951\n",
       " 0.9999092042625951\n",
       "\n",
       "julia> Flux.params(d1)  # no trainable bias\n",
       "Params([[1.0 1.0 … 1.0 1.0; 1.0 1.0 … 1.0 1.0]])\n",
       "\\end{verbatim}\n"
      ],
      "text/markdown": [
       "```\n",
       "Dense(in => out, σ=identity; bias=true, init=glorot_uniform)\n",
       "Dense(W::AbstractMatrix, [bias, σ])\n",
       "```\n",
       "\n",
       "Create a traditional fully connected layer, whose forward pass is given by:\n",
       "\n",
       "```\n",
       "y = σ.(W * x .+ bias)\n",
       "```\n",
       "\n",
       "The input `x` should be a vector of length `in`, or batch of vectors represented as an `in × N` matrix, or any array with `size(x,1) == in`. The out `y` will be a vector  of length `out`, or a batch with `size(y) == (out, size(x)[2:end]...)`\n",
       "\n",
       "Keyword `bias=false` will switch off trainable bias for the layer. The initialisation of the weight matrix is `W = init(out, in)`, calling the function given to keyword `init`, with default [`glorot_uniform`](@ref Flux.glorot_uniform). The weight matrix and/or the bias vector (of length `out`) may also be provided explicitly.\n",
       "\n",
       "# Examples\n",
       "\n",
       "```jldoctest\n",
       "julia> d = Dense(5 => 2)\n",
       "Dense(5 => 2)       # 12 parameters\n",
       "\n",
       "julia> d(rand(Float32, 5, 64)) |> size\n",
       "(2, 64)\n",
       "\n",
       "julia> d(rand(Float32, 5, 1, 1, 64)) |> size  # treated as three batch dimensions\n",
       "(2, 1, 1, 64)\n",
       "\n",
       "julia> d1 = Dense(ones(2, 5), false, tanh)  # using provided weight matrix\n",
       "Dense(5 => 2, tanh; bias=false)  # 10 parameters\n",
       "\n",
       "julia> d1(ones(5))\n",
       "2-element Vector{Float64}:\n",
       " 0.9999092042625951\n",
       " 0.9999092042625951\n",
       "\n",
       "julia> Flux.params(d1)  # no trainable bias\n",
       "Params([[1.0 1.0 … 1.0 1.0; 1.0 1.0 … 1.0 1.0]])\n",
       "```\n"
      ],
      "text/plain": [
       "\u001b[36m  Dense(in => out, σ=identity; bias=true, init=glorot_uniform)\u001b[39m\n",
       "\u001b[36m  Dense(W::AbstractMatrix, [bias, σ])\u001b[39m\n",
       "\n",
       "  Create a traditional fully connected layer, whose forward pass is given by:\n",
       "\n",
       "\u001b[36m  y = σ.(W * x .+ bias)\u001b[39m\n",
       "\n",
       "  The input \u001b[36mx\u001b[39m should be a vector of length \u001b[36min\u001b[39m, or batch of vectors represented\n",
       "  as an \u001b[36min × N\u001b[39m matrix, or any array with \u001b[36msize(x,1) == in\u001b[39m. The out \u001b[36my\u001b[39m will be a\n",
       "  vector of length \u001b[36mout\u001b[39m, or a batch with \u001b[36msize(y) == (out, size(x)[2:end]...)\u001b[39m\n",
       "\n",
       "  Keyword \u001b[36mbias=false\u001b[39m will switch off trainable bias for the layer. The\n",
       "  initialisation of the weight matrix is \u001b[36mW = init(out, in)\u001b[39m, calling the\n",
       "  function given to keyword \u001b[36minit\u001b[39m, with default \u001b[36mglorot_uniform\u001b[39m. The weight\n",
       "  matrix and/or the bias vector (of length \u001b[36mout\u001b[39m) may also be provided\n",
       "  explicitly.\n",
       "\n",
       "\u001b[1m  Examples\u001b[22m\n",
       "\u001b[1m  ≡≡≡≡≡≡≡≡≡≡\u001b[22m\n",
       "\n",
       "\u001b[36m  julia> d = Dense(5 => 2)\u001b[39m\n",
       "\u001b[36m  Dense(5 => 2)       # 12 parameters\u001b[39m\n",
       "\u001b[36m  \u001b[39m\n",
       "\u001b[36m  julia> d(rand(Float32, 5, 64)) |> size\u001b[39m\n",
       "\u001b[36m  (2, 64)\u001b[39m\n",
       "\u001b[36m  \u001b[39m\n",
       "\u001b[36m  julia> d(rand(Float32, 5, 1, 1, 64)) |> size  # treated as three batch dimensions\u001b[39m\n",
       "\u001b[36m  (2, 1, 1, 64)\u001b[39m\n",
       "\u001b[36m  \u001b[39m\n",
       "\u001b[36m  julia> d1 = Dense(ones(2, 5), false, tanh)  # using provided weight matrix\u001b[39m\n",
       "\u001b[36m  Dense(5 => 2, tanh; bias=false)  # 10 parameters\u001b[39m\n",
       "\u001b[36m  \u001b[39m\n",
       "\u001b[36m  julia> d1(ones(5))\u001b[39m\n",
       "\u001b[36m  2-element Vector{Float64}:\u001b[39m\n",
       "\u001b[36m   0.9999092042625951\u001b[39m\n",
       "\u001b[36m   0.9999092042625951\u001b[39m\n",
       "\u001b[36m  \u001b[39m\n",
       "\u001b[36m  julia> Flux.params(d1)  # no trainable bias\u001b[39m\n",
       "\u001b[36m  Params([[1.0 1.0 … 1.0 1.0; 1.0 1.0 … 1.0 1.0]])\u001b[39m"
      ]
     },
     "execution_count": 4,
     "metadata": {},
     "output_type": "execute_result"
    }
   ],
   "source": [
    "@doc Dense"
   ]
  },
  {
   "cell_type": "code",
   "execution_count": 5,
   "id": "e8b7e755",
   "metadata": {},
   "outputs": [
    {
     "data": {
      "text/plain": [
       "Params([Float32[-1.1953473 -0.26885962], Float32[0.0]])"
      ]
     },
     "execution_count": 5,
     "metadata": {},
     "output_type": "execute_result"
    }
   ],
   "source": [
    "Flux.params(model)"
   ]
  },
  {
   "cell_type": "code",
   "execution_count": 6,
   "id": "267a824b",
   "metadata": {},
   "outputs": [
    {
     "data": {
      "text/plain": [
       "1-element Vector{Float64}:\n",
       " 0.4291549267517824"
      ]
     },
     "execution_count": 6,
     "metadata": {},
     "output_type": "execute_result"
    }
   ],
   "source": [
    "x=rand(2)\n",
    "model(x)"
   ]
  },
  {
   "cell_type": "code",
   "execution_count": 7,
   "id": "86cedef9",
   "metadata": {},
   "outputs": [
    {
     "data": {
      "text/latex": [
       "\\begin{verbatim}\n",
       "methods(f, [types], [module])\n",
       "\\end{verbatim}\n",
       "Return the method table for \\texttt{f}.\n",
       "\n",
       "If \\texttt{types} is specified, return an array of methods whose types match. If \\texttt{module} is specified, return an array of methods defined in that module. A list of modules can also be specified as an array.\n",
       "\n",
       "\\begin{quote}\n",
       "\\textbf{compat}\n",
       "\n",
       "Julia 1.4\n",
       "\n",
       "At least Julia 1.4 is required for specifying a module.\n",
       "\n",
       "\\end{quote}\n",
       "See also: \\href{@ref}{\\texttt{which}} and \\texttt{@which}.\n",
       "\n"
      ],
      "text/markdown": [
       "```\n",
       "methods(f, [types], [module])\n",
       "```\n",
       "\n",
       "Return the method table for `f`.\n",
       "\n",
       "If `types` is specified, return an array of methods whose types match. If `module` is specified, return an array of methods defined in that module. A list of modules can also be specified as an array.\n",
       "\n",
       "!!! compat \"Julia 1.4\"\n",
       "    At least Julia 1.4 is required for specifying a module.\n",
       "\n",
       "\n",
       "See also: [`which`](@ref) and `@which`.\n"
      ],
      "text/plain": [
       "\u001b[36m  methods(f, [types], [module])\u001b[39m\n",
       "\n",
       "  Return the method table for \u001b[36mf\u001b[39m.\n",
       "\n",
       "  If \u001b[36mtypes\u001b[39m is specified, return an array of methods whose types match. If\n",
       "  \u001b[36mmodule\u001b[39m is specified, return an array of methods defined in that module. A\n",
       "  list of modules can also be specified as an array.\n",
       "\n",
       "\u001b[39m\u001b[1m  │ \u001b[22m\u001b[39m\u001b[1mJulia 1.4\u001b[22m\n",
       "\u001b[39m\u001b[1m  │\u001b[22m\n",
       "\u001b[39m\u001b[1m  │\u001b[22m  At least Julia 1.4 is required for specifying a module.\n",
       "\n",
       "  See also: \u001b[36mwhich\u001b[39m and \u001b[36m@which\u001b[39m."
      ]
     },
     "execution_count": 7,
     "metadata": {},
     "output_type": "execute_result"
    }
   ],
   "source": [
    "@doc methods "
   ]
  },
  {
   "cell_type": "code",
   "execution_count": 8,
   "id": "bbbbea2e",
   "metadata": {},
   "outputs": [
    {
     "data": {
      "text/plain": [
       "Base"
      ]
     },
     "execution_count": 8,
     "metadata": {},
     "output_type": "execute_result"
    }
   ],
   "source": [
    "@which methods "
   ]
  },
  {
   "cell_type": "code",
   "execution_count": 9,
   "id": "637dd8ba",
   "metadata": {},
   "outputs": [
    {
     "data": {
      "text/html": [
       "# 1 method for generic function <b>mse</b>:<ul><li> mse(ŷ, y; <i>agg</i>) in Flux.Losses at <a href=\"file:///home/suyash/.julia/packages/Flux/kq9Et/src/losses/functions.jl\" target=\"_blank\">/home/suyash/.julia/packages/Flux/kq9Et/src/losses/functions.jl:45</a></li> </ul>"
      ],
      "text/plain": [
       "# 1 method for generic function \"mse\":\n",
       "[1] mse(ŷ, y; agg) in Flux.Losses at /home/suyash/.julia/packages/Flux/kq9Et/src/losses/functions.jl:45"
      ]
     },
     "execution_count": 9,
     "metadata": {},
     "output_type": "execute_result"
    }
   ],
   "source": [
    "methods(Flux.mse)"
   ]
  },
  {
   "cell_type": "code",
   "execution_count": 13,
   "id": "df6721af",
   "metadata": {},
   "outputs": [],
   "source": [
    "using CSV,DataFrames\n"
   ]
  },
  {
   "cell_type": "code",
   "execution_count": 14,
   "id": "47357070",
   "metadata": {},
   "outputs": [
    {
     "name": "stdout",
     "output_type": "stream",
     "text": [
      "search: \u001b[0m\u001b[1mC\u001b[22m\u001b[0m\u001b[1mS\u001b[22m\u001b[0m\u001b[1mV\u001b[22m @\u001b[0m\u001b[1mc\u001b[22molorant_\u001b[0m\u001b[1ms\u001b[22mtr\n",
      "\n"
     ]
    },
    {
     "data": {
      "text/latex": [
       "CSV provides fast, flexible reader \\& writer for delimited text files in various formats.\n",
       "\n",
       "Reading:\n",
       "\n",
       "\\begin{itemize}\n",
       "\\item \\texttt{CSV.File} reads delimited data and returns a \\texttt{CSV.File} object, which allows dot-access to columns and iterating rows.\n",
       "\n",
       "\n",
       "\\item \\texttt{CSV.read} is similar to \\texttt{CSV.File} but used when the input will be passed directly to a sink function such as a \\texttt{DataFrame}.\n",
       "\n",
       "\n",
       "\\item \\texttt{CSV.Rows} reads delimited data and returns a \\texttt{CSV.Rows} object, which allows \"streaming\" the data by iterating and thereby has a lower memory footprint than \\texttt{CSV.File}.\n",
       "\n",
       "\n",
       "\\item \\texttt{CSV.Chunks} allows processing extremely large files in \"batches\" or \"chunks\".\n",
       "\n",
       "\\end{itemize}\n",
       "Writing:\n",
       "\n",
       "\\begin{itemize}\n",
       "\\item \\texttt{CSV.write} writes a \\href{https://github.com/JuliaData/Tables.jl}{Tables.jl interface input} such as a \\texttt{DataFrame} to a csv file or an in-memory IOBuffer.\n",
       "\n",
       "\n",
       "\\item \\texttt{CSV.RowWriter} creates an iterator that produces csv-formatted strings for each row in the input table.\n",
       "\n",
       "\\end{itemize}\n",
       "Here is an example of reading a csv file and passing the input to a \\texttt{DataFrame}:\n",
       "\n",
       "\\begin{verbatim}\n",
       "using CSV, DataFrames\n",
       "ExampleInputDF = CSV.read(\"ExampleInputFile.csv\", DataFrame)\n",
       "\\end{verbatim}\n",
       "Here is an example of writing out a \\texttt{DataFrame} to a csv file:\n",
       "\n",
       "\\begin{verbatim}\n",
       "using CSV, DataFrames\n",
       "ExampleOutputDF = DataFrame(rand(10,10), :auto)\n",
       "CSV.write(\"ExampleOutputFile.csv\", ExampleOutputDF)\n",
       "\\end{verbatim}\n"
      ],
      "text/markdown": [
       "CSV provides fast, flexible reader & writer for delimited text files in various formats.\n",
       "\n",
       "Reading:\n",
       "\n",
       "  * `CSV.File` reads delimited data and returns a `CSV.File` object, which allows dot-access to columns and iterating rows.\n",
       "  * `CSV.read` is similar to `CSV.File` but used when the input will be passed directly to a sink function such as a `DataFrame`.\n",
       "  * `CSV.Rows` reads delimited data and returns a `CSV.Rows` object, which allows \"streaming\" the data by iterating and thereby has a lower memory footprint than `CSV.File`.\n",
       "  * `CSV.Chunks` allows processing extremely large files in \"batches\" or \"chunks\".\n",
       "\n",
       "Writing:\n",
       "\n",
       "  * `CSV.write` writes a [Tables.jl interface input](https://github.com/JuliaData/Tables.jl) such as a `DataFrame` to a csv file or an in-memory IOBuffer.\n",
       "  * `CSV.RowWriter` creates an iterator that produces csv-formatted strings for each row in the input table.\n",
       "\n",
       "Here is an example of reading a csv file and passing the input to a `DataFrame`:\n",
       "\n",
       "```julia\n",
       "using CSV, DataFrames\n",
       "ExampleInputDF = CSV.read(\"ExampleInputFile.csv\", DataFrame)\n",
       "```\n",
       "\n",
       "Here is an example of writing out a `DataFrame` to a csv file:\n",
       "\n",
       "```julia\n",
       "using CSV, DataFrames\n",
       "ExampleOutputDF = DataFrame(rand(10,10), :auto)\n",
       "CSV.write(\"ExampleOutputFile.csv\", ExampleOutputDF)\n",
       "```\n"
      ],
      "text/plain": [
       "  CSV provides fast, flexible reader & writer for delimited text files in\n",
       "  various formats.\n",
       "\n",
       "  Reading:\n",
       "\n",
       "    •  \u001b[36mCSV.File\u001b[39m reads delimited data and returns a \u001b[36mCSV.File\u001b[39m object, which\n",
       "       allows dot-access to columns and iterating rows.\n",
       "\n",
       "    •  \u001b[36mCSV.read\u001b[39m is similar to \u001b[36mCSV.File\u001b[39m but used when the input will be\n",
       "       passed directly to a sink function such as a \u001b[36mDataFrame\u001b[39m.\n",
       "\n",
       "    •  \u001b[36mCSV.Rows\u001b[39m reads delimited data and returns a \u001b[36mCSV.Rows\u001b[39m object, which\n",
       "       allows \"streaming\" the data by iterating and thereby has a lower\n",
       "       memory footprint than \u001b[36mCSV.File\u001b[39m.\n",
       "\n",
       "    •  \u001b[36mCSV.Chunks\u001b[39m allows processing extremely large files in \"batches\" or\n",
       "       \"chunks\".\n",
       "\n",
       "  Writing:\n",
       "\n",
       "    •  \u001b[36mCSV.write\u001b[39m writes a Tables.jl interface input\n",
       "       (https://github.com/JuliaData/Tables.jl) such as a \u001b[36mDataFrame\u001b[39m to a\n",
       "       csv file or an in-memory IOBuffer.\n",
       "\n",
       "    •  \u001b[36mCSV.RowWriter\u001b[39m creates an iterator that produces csv-formatted\n",
       "       strings for each row in the input table.\n",
       "\n",
       "  Here is an example of reading a csv file and passing the input to a\n",
       "  \u001b[36mDataFrame\u001b[39m:\n",
       "\n",
       "\u001b[36m  using CSV, DataFrames\u001b[39m\n",
       "\u001b[36m  ExampleInputDF = CSV.read(\"ExampleInputFile.csv\", DataFrame)\u001b[39m\n",
       "\n",
       "  Here is an example of writing out a \u001b[36mDataFrame\u001b[39m to a csv file:\n",
       "\n",
       "\u001b[36m  using CSV, DataFrames\u001b[39m\n",
       "\u001b[36m  ExampleOutputDF = DataFrame(rand(10,10), :auto)\u001b[39m\n",
       "\u001b[36m  CSV.write(\"ExampleOutputFile.csv\", ExampleOutputDF)\u001b[39m"
      ]
     },
     "execution_count": 14,
     "metadata": {},
     "output_type": "execute_result"
    }
   ],
   "source": [
    "?CSV\n"
   ]
  },
  {
   "cell_type": "code",
   "execution_count": 35,
   "id": "79df315d",
   "metadata": {},
   "outputs": [
    {
     "data": {
      "text/html": [
       "<div><div style = \"float: left;\"><span>492×5 DataFrame</span></div><div style = \"float: right;\"><span style = \"font-style: italic;\">467 rows omitted</span></div><div style = \"clear: both;\"></div></div><div class = \"data-frame\" style = \"overflow-x: scroll;\"><table class = \"data-frame\" style = \"margin-bottom: 6px;\"><thead><tr class = \"header\"><th class = \"rowNumber\" style = \"font-weight: bold; text-align: right;\">Row</th><th style = \"text-align: left;\">height </th><th style = \"text-align: left;\"> width </th><th style = \"text-align: left;\"> red </th><th style = \"text-align: left;\"> green </th><th style = \"text-align: left;\"> blue</th></tr><tr class = \"subheader headerLastRow\"><th class = \"rowNumber\" style = \"font-weight: bold; text-align: right;\"></th><th title = \"Int64\" style = \"text-align: left;\">Int64</th><th title = \"Int64\" style = \"text-align: left;\">Int64</th><th title = \"Float64\" style = \"text-align: left;\">Float64</th><th title = \"Float64\" style = \"text-align: left;\">Float64</th><th title = \"Float64\" style = \"text-align: left;\">Float64</th></tr></thead><tbody><tr><td class = \"rowNumber\" style = \"font-weight: bold; text-align: right;\">1</td><td style = \"text-align: right;\">90</td><td style = \"text-align: right;\">99</td><td style = \"text-align: right;\">0.501466</td><td style = \"text-align: right;\">0.229304</td><td style = \"text-align: right;\">0.148436</td></tr><tr><td class = \"rowNumber\" style = \"font-weight: bold; text-align: right;\">2</td><td style = \"text-align: right;\">94</td><td style = \"text-align: right;\">99</td><td style = \"text-align: right;\">0.434225</td><td style = \"text-align: right;\">0.128667</td><td style = \"text-align: right;\">0.108166</td></tr><tr><td class = \"rowNumber\" style = \"font-weight: bold; text-align: right;\">3</td><td style = \"text-align: right;\">94</td><td style = \"text-align: right;\">99</td><td style = \"text-align: right;\">0.43412</td><td style = \"text-align: right;\">0.128334</td><td style = \"text-align: right;\">0.108348</td></tr><tr><td class = \"rowNumber\" style = \"font-weight: bold; text-align: right;\">4</td><td style = \"text-align: right;\">94</td><td style = \"text-align: right;\">99</td><td style = \"text-align: right;\">0.432922</td><td style = \"text-align: right;\">0.127469</td><td style = \"text-align: right;\">0.106358</td></tr><tr><td class = \"rowNumber\" style = \"font-weight: bold; text-align: right;\">5</td><td style = \"text-align: right;\">94</td><td style = \"text-align: right;\">99</td><td style = \"text-align: right;\">0.433292</td><td style = \"text-align: right;\">0.126873</td><td style = \"text-align: right;\">0.106027</td></tr><tr><td class = \"rowNumber\" style = \"font-weight: bold; text-align: right;\">6</td><td style = \"text-align: right;\">94</td><td style = \"text-align: right;\">99</td><td style = \"text-align: right;\">0.432438</td><td style = \"text-align: right;\">0.127182</td><td style = \"text-align: right;\">0.105781</td></tr><tr><td class = \"rowNumber\" style = \"font-weight: bold; text-align: right;\">7</td><td style = \"text-align: right;\">94</td><td style = \"text-align: right;\">99</td><td style = \"text-align: right;\">0.432922</td><td style = \"text-align: right;\">0.127296</td><td style = \"text-align: right;\">0.106408</td></tr><tr><td class = \"rowNumber\" style = \"font-weight: bold; text-align: right;\">8</td><td style = \"text-align: right;\">95</td><td style = \"text-align: right;\">99</td><td style = \"text-align: right;\">0.431167</td><td style = \"text-align: right;\">0.126159</td><td style = \"text-align: right;\">0.104195</td></tr><tr><td class = \"rowNumber\" style = \"font-weight: bold; text-align: right;\">9</td><td style = \"text-align: right;\">95</td><td style = \"text-align: right;\">99</td><td style = \"text-align: right;\">0.431867</td><td style = \"text-align: right;\">0.125932</td><td style = \"text-align: right;\">0.104244</td></tr><tr><td class = \"rowNumber\" style = \"font-weight: bold; text-align: right;\">10</td><td style = \"text-align: right;\">95</td><td style = \"text-align: right;\">99</td><td style = \"text-align: right;\">0.43034</td><td style = \"text-align: right;\">0.126404</td><td style = \"text-align: right;\">0.103801</td></tr><tr><td class = \"rowNumber\" style = \"font-weight: bold; text-align: right;\">11</td><td style = \"text-align: right;\">95</td><td style = \"text-align: right;\">99</td><td style = \"text-align: right;\">0.43023</td><td style = \"text-align: right;\">0.125699</td><td style = \"text-align: right;\">0.104274</td></tr><tr><td class = \"rowNumber\" style = \"font-weight: bold; text-align: right;\">12</td><td style = \"text-align: right;\">88</td><td style = \"text-align: right;\">99</td><td style = \"text-align: right;\">0.485033</td><td style = \"text-align: right;\">0.20775</td><td style = \"text-align: right;\">0.141373</td></tr><tr><td class = \"rowNumber\" style = \"font-weight: bold; text-align: right;\">13</td><td style = \"text-align: right;\">95</td><td style = \"text-align: right;\">99</td><td style = \"text-align: right;\">0.428999</td><td style = \"text-align: right;\">0.125561</td><td style = \"text-align: right;\">0.10327</td></tr><tr><td style = \"text-align: right;\">&vellip;</td><td style = \"text-align: right;\">&vellip;</td><td style = \"text-align: right;\">&vellip;</td><td style = \"text-align: right;\">&vellip;</td><td style = \"text-align: right;\">&vellip;</td><td style = \"text-align: right;\">&vellip;</td></tr><tr><td class = \"rowNumber\" style = \"font-weight: bold; text-align: right;\">481</td><td style = \"text-align: right;\">98</td><td style = \"text-align: right;\">99</td><td style = \"text-align: right;\">0.456743</td><td style = \"text-align: right;\">0.138694</td><td style = \"text-align: right;\">0.108498</td></tr><tr><td class = \"rowNumber\" style = \"font-weight: bold; text-align: right;\">482</td><td style = \"text-align: right;\">98</td><td style = \"text-align: right;\">99</td><td style = \"text-align: right;\">0.459049</td><td style = \"text-align: right;\">0.139552</td><td style = \"text-align: right;\">0.109713</td></tr><tr><td class = \"rowNumber\" style = \"font-weight: bold; text-align: right;\">483</td><td style = \"text-align: right;\">98</td><td style = \"text-align: right;\">99</td><td style = \"text-align: right;\">0.460158</td><td style = \"text-align: right;\">0.141178</td><td style = \"text-align: right;\">0.110293</td></tr><tr><td class = \"rowNumber\" style = \"font-weight: bold; text-align: right;\">484</td><td style = \"text-align: right;\">98</td><td style = \"text-align: right;\">99</td><td style = \"text-align: right;\">0.461967</td><td style = \"text-align: right;\">0.142167</td><td style = \"text-align: right;\">0.111156</td></tr><tr><td class = \"rowNumber\" style = \"font-weight: bold; text-align: right;\">485</td><td style = \"text-align: right;\">98</td><td style = \"text-align: right;\">99</td><td style = \"text-align: right;\">0.462939</td><td style = \"text-align: right;\">0.144067</td><td style = \"text-align: right;\">0.11163</td></tr><tr><td class = \"rowNumber\" style = \"font-weight: bold; text-align: right;\">486</td><td style = \"text-align: right;\">99</td><td style = \"text-align: right;\">99</td><td style = \"text-align: right;\">0.464322</td><td style = \"text-align: right;\">0.143808</td><td style = \"text-align: right;\">0.111625</td></tr><tr><td class = \"rowNumber\" style = \"font-weight: bold; text-align: right;\">487</td><td style = \"text-align: right;\">99</td><td style = \"text-align: right;\">99</td><td style = \"text-align: right;\">0.465106</td><td style = \"text-align: right;\">0.14517</td><td style = \"text-align: right;\">0.111227</td></tr><tr><td class = \"rowNumber\" style = \"font-weight: bold; text-align: right;\">488</td><td style = \"text-align: right;\">98</td><td style = \"text-align: right;\">99</td><td style = \"text-align: right;\">0.467485</td><td style = \"text-align: right;\">0.146692</td><td style = \"text-align: right;\">0.113257</td></tr><tr><td class = \"rowNumber\" style = \"font-weight: bold; text-align: right;\">489</td><td style = \"text-align: right;\">98</td><td style = \"text-align: right;\">99</td><td style = \"text-align: right;\">0.468352</td><td style = \"text-align: right;\">0.147962</td><td style = \"text-align: right;\">0.112711</td></tr><tr><td class = \"rowNumber\" style = \"font-weight: bold; text-align: right;\">490</td><td style = \"text-align: right;\">98</td><td style = \"text-align: right;\">99</td><td style = \"text-align: right;\">0.471226</td><td style = \"text-align: right;\">0.150144</td><td style = \"text-align: right;\">0.113324</td></tr><tr><td class = \"rowNumber\" style = \"font-weight: bold; text-align: right;\">491</td><td style = \"text-align: right;\">99</td><td style = \"text-align: right;\">99</td><td style = \"text-align: right;\">0.52215</td><td style = \"text-align: right;\">0.199051</td><td style = \"text-align: right;\">0.1244</td></tr><tr><td class = \"rowNumber\" style = \"font-weight: bold; text-align: right;\">492</td><td style = \"text-align: right;\">98</td><td style = \"text-align: right;\">99</td><td style = \"text-align: right;\">0.471621</td><td style = \"text-align: right;\">0.150672</td><td style = \"text-align: right;\">0.113324</td></tr></tbody></table></div>"
      ],
      "text/latex": [
       "\\begin{tabular}{r|ccccc}\n",
       "\t& height  &  width  &  red  &  green  &  blue\\\\\n",
       "\t\\hline\n",
       "\t& Int64 & Int64 & Float64 & Float64 & Float64\\\\\n",
       "\t\\hline\n",
       "\t1 & 90 & 99 & 0.501466 & 0.229304 & 0.148436 \\\\\n",
       "\t2 & 94 & 99 & 0.434225 & 0.128667 & 0.108166 \\\\\n",
       "\t3 & 94 & 99 & 0.43412 & 0.128334 & 0.108348 \\\\\n",
       "\t4 & 94 & 99 & 0.432922 & 0.127469 & 0.106358 \\\\\n",
       "\t5 & 94 & 99 & 0.433292 & 0.126873 & 0.106027 \\\\\n",
       "\t6 & 94 & 99 & 0.432438 & 0.127182 & 0.105781 \\\\\n",
       "\t7 & 94 & 99 & 0.432922 & 0.127296 & 0.106408 \\\\\n",
       "\t8 & 95 & 99 & 0.431167 & 0.126159 & 0.104195 \\\\\n",
       "\t9 & 95 & 99 & 0.431867 & 0.125932 & 0.104244 \\\\\n",
       "\t10 & 95 & 99 & 0.43034 & 0.126404 & 0.103801 \\\\\n",
       "\t11 & 95 & 99 & 0.43023 & 0.125699 & 0.104274 \\\\\n",
       "\t12 & 88 & 99 & 0.485033 & 0.20775 & 0.141373 \\\\\n",
       "\t13 & 95 & 99 & 0.428999 & 0.125561 & 0.10327 \\\\\n",
       "\t14 & 95 & 99 & 0.429271 & 0.125775 & 0.10429 \\\\\n",
       "\t15 & 95 & 99 & 0.428053 & 0.126368 & 0.103594 \\\\\n",
       "\t16 & 95 & 99 & 0.428074 & 0.126014 & 0.104247 \\\\\n",
       "\t17 & 95 & 99 & 0.427192 & 0.126647 & 0.104108 \\\\\n",
       "\t18 & 94 & 99 & 0.42784 & 0.127914 & 0.105842 \\\\\n",
       "\t19 & 94 & 99 & 0.426216 & 0.127807 & 0.104806 \\\\\n",
       "\t20 & 94 & 99 & 0.426301 & 0.128333 & 0.10631 \\\\\n",
       "\t21 & 94 & 99 & 0.424659 & 0.127903 & 0.10526 \\\\\n",
       "\t22 & 94 & 99 & 0.425326 & 0.128483 & 0.105477 \\\\\n",
       "\t23 & 87 & 99 & 0.484851 & 0.206276 & 0.141794 \\\\\n",
       "\t24 & 93 & 99 & 0.423081 & 0.129253 & 0.105577 \\\\\n",
       "\t25 & 93 & 99 & 0.423146 & 0.129009 & 0.106624 \\\\\n",
       "\t26 & 93 & 99 & 0.421603 & 0.12913 & 0.106127 \\\\\n",
       "\t27 & 93 & 99 & 0.421609 & 0.129092 & 0.10697 \\\\\n",
       "\t28 & 92 & 99 & 0.421213 & 0.130389 & 0.107312 \\\\\n",
       "\t29 & 92 & 99 & 0.42096 & 0.130232 & 0.108094 \\\\\n",
       "\t30 & 92 & 99 & 0.420167 & 0.130548 & 0.107605 \\\\\n",
       "\t$\\dots$ & $\\dots$ & $\\dots$ & $\\dots$ & $\\dots$ & $\\dots$ \\\\\n",
       "\\end{tabular}\n"
      ],
      "text/plain": [
       "\u001b[1m492×5 DataFrame\u001b[0m\n",
       "\u001b[1m Row \u001b[0m│\u001b[1m height  \u001b[0m\u001b[1m  width  \u001b[0m\u001b[1m  red     \u001b[0m\u001b[1m  green   \u001b[0m\u001b[1m  blue    \u001b[0m\n",
       "     │\u001b[90m Int64   \u001b[0m\u001b[90m Int64   \u001b[0m\u001b[90m Float64  \u001b[0m\u001b[90m Float64  \u001b[0m\u001b[90m Float64  \u001b[0m\n",
       "─────┼────────────────────────────────────────────────\n",
       "   1 │      90       99  0.501466  0.229304  0.148436\n",
       "   2 │      94       99  0.434225  0.128667  0.108166\n",
       "   3 │      94       99  0.43412   0.128334  0.108348\n",
       "   4 │      94       99  0.432922  0.127469  0.106358\n",
       "   5 │      94       99  0.433292  0.126873  0.106027\n",
       "   6 │      94       99  0.432438  0.127182  0.105781\n",
       "   7 │      94       99  0.432922  0.127296  0.106408\n",
       "   8 │      95       99  0.431167  0.126159  0.104195\n",
       "   9 │      95       99  0.431867  0.125932  0.104244\n",
       "  10 │      95       99  0.43034   0.126404  0.103801\n",
       "  11 │      95       99  0.43023   0.125699  0.104274\n",
       "  ⋮  │    ⋮        ⋮        ⋮         ⋮         ⋮\n",
       " 483 │      98       99  0.460158  0.141178  0.110293\n",
       " 484 │      98       99  0.461967  0.142167  0.111156\n",
       " 485 │      98       99  0.462939  0.144067  0.11163\n",
       " 486 │      99       99  0.464322  0.143808  0.111625\n",
       " 487 │      99       99  0.465106  0.14517   0.111227\n",
       " 488 │      98       99  0.467485  0.146692  0.113257\n",
       " 489 │      98       99  0.468352  0.147962  0.112711\n",
       " 490 │      98       99  0.471226  0.150144  0.113324\n",
       " 491 │      99       99  0.52215   0.199051  0.1244\n",
       " 492 │      98       99  0.471621  0.150672  0.113324\n",
       "\u001b[36m                                      471 rows omitted\u001b[0m"
      ]
     },
     "execution_count": 35,
     "metadata": {},
     "output_type": "execute_result"
    }
   ],
   "source": [
    "apples=CSV.read(\"data/apples.dat\", DataFrame, delim=\"\\t\")"
   ]
  },
  {
   "cell_type": "code",
   "execution_count": 36,
   "id": "9eb3104e",
   "metadata": {},
   "outputs": [
    {
     "data": {
      "text/html": [
       "<div><div style = \"float: left;\"><span>490×5 DataFrame</span></div><div style = \"float: right;\"><span style = \"font-style: italic;\">465 rows omitted</span></div><div style = \"clear: both;\"></div></div><div class = \"data-frame\" style = \"overflow-x: scroll;\"><table class = \"data-frame\" style = \"margin-bottom: 6px;\"><thead><tr class = \"header\"><th class = \"rowNumber\" style = \"font-weight: bold; text-align: right;\">Row</th><th style = \"text-align: left;\">height </th><th style = \"text-align: left;\"> width </th><th style = \"text-align: left;\"> red </th><th style = \"text-align: left;\"> green </th><th style = \"text-align: left;\"> blue</th></tr><tr class = \"subheader headerLastRow\"><th class = \"rowNumber\" style = \"font-weight: bold; text-align: right;\"></th><th title = \"Int64\" style = \"text-align: left;\">Int64</th><th title = \"Int64\" style = \"text-align: left;\">Int64</th><th title = \"Float64\" style = \"text-align: left;\">Float64</th><th title = \"Float64\" style = \"text-align: left;\">Float64</th><th title = \"Float64\" style = \"text-align: left;\">Float64</th></tr></thead><tbody><tr><td class = \"rowNumber\" style = \"font-weight: bold; text-align: right;\">1</td><td style = \"text-align: right;\">98</td><td style = \"text-align: right;\">99</td><td style = \"text-align: right;\">0.583507</td><td style = \"text-align: right;\">0.500662</td><td style = \"text-align: right;\">0.207504</td></tr><tr><td class = \"rowNumber\" style = \"font-weight: bold; text-align: right;\">2</td><td style = \"text-align: right;\">50</td><td style = \"text-align: right;\">99</td><td style = \"text-align: right;\">0.609666</td><td style = \"text-align: right;\">0.514869</td><td style = \"text-align: right;\">0.186871</td></tr><tr><td class = \"rowNumber\" style = \"font-weight: bold; text-align: right;\">3</td><td style = \"text-align: right;\">52</td><td style = \"text-align: right;\">99</td><td style = \"text-align: right;\">0.610012</td><td style = \"text-align: right;\">0.515759</td><td style = \"text-align: right;\">0.187504</td></tr><tr><td class = \"rowNumber\" style = \"font-weight: bold; text-align: right;\">4</td><td style = \"text-align: right;\">99</td><td style = \"text-align: right;\">69</td><td style = \"text-align: right;\">0.568033</td><td style = \"text-align: right;\">0.492939</td><td style = \"text-align: right;\">0.239316</td></tr><tr><td class = \"rowNumber\" style = \"font-weight: bold; text-align: right;\">5</td><td style = \"text-align: right;\">51</td><td style = \"text-align: right;\">99</td><td style = \"text-align: right;\">0.609766</td><td style = \"text-align: right;\">0.51485</td><td style = \"text-align: right;\">0.183329</td></tr><tr><td class = \"rowNumber\" style = \"font-weight: bold; text-align: right;\">6</td><td style = \"text-align: right;\">53</td><td style = \"text-align: right;\">99</td><td style = \"text-align: right;\">0.608089</td><td style = \"text-align: right;\">0.514609</td><td style = \"text-align: right;\">0.183374</td></tr><tr><td class = \"rowNumber\" style = \"font-weight: bold; text-align: right;\">7</td><td style = \"text-align: right;\">53</td><td style = \"text-align: right;\">99</td><td style = \"text-align: right;\">0.608676</td><td style = \"text-align: right;\">0.515487</td><td style = \"text-align: right;\">0.186206</td></tr><tr><td class = \"rowNumber\" style = \"font-weight: bold; text-align: right;\">8</td><td style = \"text-align: right;\">53</td><td style = \"text-align: right;\">99</td><td style = \"text-align: right;\">0.609278</td><td style = \"text-align: right;\">0.516486</td><td style = \"text-align: right;\">0.188582</td></tr><tr><td class = \"rowNumber\" style = \"font-weight: bold; text-align: right;\">9</td><td style = \"text-align: right;\">99</td><td style = \"text-align: right;\">67</td><td style = \"text-align: right;\">0.569099</td><td style = \"text-align: right;\">0.494501</td><td style = \"text-align: right;\">0.241941</td></tr><tr><td class = \"rowNumber\" style = \"font-weight: bold; text-align: right;\">10</td><td style = \"text-align: right;\">54</td><td style = \"text-align: right;\">99</td><td style = \"text-align: right;\">0.610284</td><td style = \"text-align: right;\">0.516183</td><td style = \"text-align: right;\">0.189116</td></tr><tr><td class = \"rowNumber\" style = \"font-weight: bold; text-align: right;\">11</td><td style = \"text-align: right;\">54</td><td style = \"text-align: right;\">99</td><td style = \"text-align: right;\">0.607329</td><td style = \"text-align: right;\">0.515344</td><td style = \"text-align: right;\">0.188351</td></tr><tr><td class = \"rowNumber\" style = \"font-weight: bold; text-align: right;\">12</td><td style = \"text-align: right;\">56</td><td style = \"text-align: right;\">99</td><td style = \"text-align: right;\">0.608367</td><td style = \"text-align: right;\">0.51465</td><td style = \"text-align: right;\">0.188733</td></tr><tr><td class = \"rowNumber\" style = \"font-weight: bold; text-align: right;\">13</td><td style = \"text-align: right;\">56</td><td style = \"text-align: right;\">99</td><td style = \"text-align: right;\">0.606331</td><td style = \"text-align: right;\">0.513778</td><td style = \"text-align: right;\">0.18818</td></tr><tr><td style = \"text-align: right;\">&vellip;</td><td style = \"text-align: right;\">&vellip;</td><td style = \"text-align: right;\">&vellip;</td><td style = \"text-align: right;\">&vellip;</td><td style = \"text-align: right;\">&vellip;</td><td style = \"text-align: right;\">&vellip;</td></tr><tr><td class = \"rowNumber\" style = \"font-weight: bold; text-align: right;\">479</td><td style = \"text-align: right;\">31</td><td style = \"text-align: right;\">99</td><td style = \"text-align: right;\">0.52913</td><td style = \"text-align: right;\">0.44031</td><td style = \"text-align: right;\">0.203179</td></tr><tr><td class = \"rowNumber\" style = \"font-weight: bold; text-align: right;\">480</td><td style = \"text-align: right;\">37</td><td style = \"text-align: right;\">99</td><td style = \"text-align: right;\">0.528731</td><td style = \"text-align: right;\">0.456548</td><td style = \"text-align: right;\">0.230871</td></tr><tr><td class = \"rowNumber\" style = \"font-weight: bold; text-align: right;\">481</td><td style = \"text-align: right;\">37</td><td style = \"text-align: right;\">99</td><td style = \"text-align: right;\">0.524028</td><td style = \"text-align: right;\">0.452379</td><td style = \"text-align: right;\">0.226256</td></tr><tr><td class = \"rowNumber\" style = \"font-weight: bold; text-align: right;\">482</td><td style = \"text-align: right;\">37</td><td style = \"text-align: right;\">99</td><td style = \"text-align: right;\">0.523906</td><td style = \"text-align: right;\">0.452571</td><td style = \"text-align: right;\">0.230475</td></tr><tr><td class = \"rowNumber\" style = \"font-weight: bold; text-align: right;\">483</td><td style = \"text-align: right;\">39</td><td style = \"text-align: right;\">99</td><td style = \"text-align: right;\">0.523823</td><td style = \"text-align: right;\">0.4514</td><td style = \"text-align: right;\">0.229759</td></tr><tr><td class = \"rowNumber\" style = \"font-weight: bold; text-align: right;\">484</td><td style = \"text-align: right;\">39</td><td style = \"text-align: right;\">99</td><td style = \"text-align: right;\">0.522489</td><td style = \"text-align: right;\">0.449973</td><td style = \"text-align: right;\">0.233683</td></tr><tr><td class = \"rowNumber\" style = \"font-weight: bold; text-align: right;\">485</td><td style = \"text-align: right;\">41</td><td style = \"text-align: right;\">99</td><td style = \"text-align: right;\">0.517573</td><td style = \"text-align: right;\">0.444391</td><td style = \"text-align: right;\">0.227029</td></tr><tr><td class = \"rowNumber\" style = \"font-weight: bold; text-align: right;\">486</td><td style = \"text-align: right;\">41</td><td style = \"text-align: right;\">99</td><td style = \"text-align: right;\">0.515956</td><td style = \"text-align: right;\">0.441912</td><td style = \"text-align: right;\">0.230229</td></tr><tr><td class = \"rowNumber\" style = \"font-weight: bold; text-align: right;\">487</td><td style = \"text-align: right;\">41</td><td style = \"text-align: right;\">99</td><td style = \"text-align: right;\">0.517585</td><td style = \"text-align: right;\">0.444827</td><td style = \"text-align: right;\">0.234798</td></tr><tr><td class = \"rowNumber\" style = \"font-weight: bold; text-align: right;\">488</td><td style = \"text-align: right;\">41</td><td style = \"text-align: right;\">99</td><td style = \"text-align: right;\">0.510357</td><td style = \"text-align: right;\">0.436022</td><td style = \"text-align: right;\">0.228139</td></tr><tr><td class = \"rowNumber\" style = \"font-weight: bold; text-align: right;\">489</td><td style = \"text-align: right;\">43</td><td style = \"text-align: right;\">99</td><td style = \"text-align: right;\">0.508873</td><td style = \"text-align: right;\">0.43433</td><td style = \"text-align: right;\">0.230683</td></tr><tr><td class = \"rowNumber\" style = \"font-weight: bold; text-align: right;\">490</td><td style = \"text-align: right;\">31</td><td style = \"text-align: right;\">99</td><td style = \"text-align: right;\">0.528205</td><td style = \"text-align: right;\">0.440139</td><td style = \"text-align: right;\">0.199588</td></tr></tbody></table></div>"
      ],
      "text/latex": [
       "\\begin{tabular}{r|ccccc}\n",
       "\t& height  &  width  &  red  &  green  &  blue\\\\\n",
       "\t\\hline\n",
       "\t& Int64 & Int64 & Float64 & Float64 & Float64\\\\\n",
       "\t\\hline\n",
       "\t1 & 98 & 99 & 0.583507 & 0.500662 & 0.207504 \\\\\n",
       "\t2 & 50 & 99 & 0.609666 & 0.514869 & 0.186871 \\\\\n",
       "\t3 & 52 & 99 & 0.610012 & 0.515759 & 0.187504 \\\\\n",
       "\t4 & 99 & 69 & 0.568033 & 0.492939 & 0.239316 \\\\\n",
       "\t5 & 51 & 99 & 0.609766 & 0.51485 & 0.183329 \\\\\n",
       "\t6 & 53 & 99 & 0.608089 & 0.514609 & 0.183374 \\\\\n",
       "\t7 & 53 & 99 & 0.608676 & 0.515487 & 0.186206 \\\\\n",
       "\t8 & 53 & 99 & 0.609278 & 0.516486 & 0.188582 \\\\\n",
       "\t9 & 99 & 67 & 0.569099 & 0.494501 & 0.241941 \\\\\n",
       "\t10 & 54 & 99 & 0.610284 & 0.516183 & 0.189116 \\\\\n",
       "\t11 & 54 & 99 & 0.607329 & 0.515344 & 0.188351 \\\\\n",
       "\t12 & 56 & 99 & 0.608367 & 0.51465 & 0.188733 \\\\\n",
       "\t13 & 56 & 99 & 0.606331 & 0.513778 & 0.18818 \\\\\n",
       "\t14 & 56 & 99 & 0.608364 & 0.516287 & 0.193825 \\\\\n",
       "\t15 & 57 & 99 & 0.605807 & 0.513735 & 0.191391 \\\\\n",
       "\t16 & 58 & 99 & 0.605733 & 0.512879 & 0.190078 \\\\\n",
       "\t17 & 59 & 99 & 0.604937 & 0.513665 & 0.192874 \\\\\n",
       "\t18 & 59 & 99 & 0.603498 & 0.511384 & 0.192722 \\\\\n",
       "\t19 & 59 & 99 & 0.600693 & 0.510035 & 0.189299 \\\\\n",
       "\t20 & 61 & 99 & 0.602988 & 0.511165 & 0.194563 \\\\\n",
       "\t21 & 61 & 99 & 0.600188 & 0.509263 & 0.193743 \\\\\n",
       "\t22 & 61 & 99 & 0.599505 & 0.507729 & 0.193026 \\\\\n",
       "\t23 & 63 & 99 & 0.597605 & 0.507 & 0.194595 \\\\\n",
       "\t24 & 65 & 99 & 0.596964 & 0.506184 & 0.196388 \\\\\n",
       "\t25 & 66 & 99 & 0.597058 & 0.506745 & 0.197678 \\\\\n",
       "\t26 & 67 & 99 & 0.597075 & 0.50638 & 0.19838 \\\\\n",
       "\t27 & 69 & 99 & 0.592933 & 0.504191 & 0.198419 \\\\\n",
       "\t28 & 73 & 99 & 0.589429 & 0.500421 & 0.201329 \\\\\n",
       "\t29 & 78 & 99 & 0.586179 & 0.49841 & 0.201781 \\\\\n",
       "\t30 & 79 & 99 & 0.582614 & 0.495792 & 0.201449 \\\\\n",
       "\t$\\dots$ & $\\dots$ & $\\dots$ & $\\dots$ & $\\dots$ & $\\dots$ \\\\\n",
       "\\end{tabular}\n"
      ],
      "text/plain": [
       "\u001b[1m490×5 DataFrame\u001b[0m\n",
       "\u001b[1m Row \u001b[0m│\u001b[1m height  \u001b[0m\u001b[1m  width  \u001b[0m\u001b[1m  red     \u001b[0m\u001b[1m  green   \u001b[0m\u001b[1m  blue    \u001b[0m\n",
       "     │\u001b[90m Int64   \u001b[0m\u001b[90m Int64   \u001b[0m\u001b[90m Float64  \u001b[0m\u001b[90m Float64  \u001b[0m\u001b[90m Float64  \u001b[0m\n",
       "─────┼────────────────────────────────────────────────\n",
       "   1 │      98       99  0.583507  0.500662  0.207504\n",
       "   2 │      50       99  0.609666  0.514869  0.186871\n",
       "   3 │      52       99  0.610012  0.515759  0.187504\n",
       "   4 │      99       69  0.568033  0.492939  0.239316\n",
       "   5 │      51       99  0.609766  0.51485   0.183329\n",
       "   6 │      53       99  0.608089  0.514609  0.183374\n",
       "   7 │      53       99  0.608676  0.515487  0.186206\n",
       "   8 │      53       99  0.609278  0.516486  0.188582\n",
       "   9 │      99       67  0.569099  0.494501  0.241941\n",
       "  10 │      54       99  0.610284  0.516183  0.189116\n",
       "  11 │      54       99  0.607329  0.515344  0.188351\n",
       "  ⋮  │    ⋮        ⋮        ⋮         ⋮         ⋮\n",
       " 481 │      37       99  0.524028  0.452379  0.226256\n",
       " 482 │      37       99  0.523906  0.452571  0.230475\n",
       " 483 │      39       99  0.523823  0.4514    0.229759\n",
       " 484 │      39       99  0.522489  0.449973  0.233683\n",
       " 485 │      41       99  0.517573  0.444391  0.227029\n",
       " 486 │      41       99  0.515956  0.441912  0.230229\n",
       " 487 │      41       99  0.517585  0.444827  0.234798\n",
       " 488 │      41       99  0.510357  0.436022  0.228139\n",
       " 489 │      43       99  0.508873  0.43433   0.230683\n",
       " 490 │      31       99  0.528205  0.440139  0.199588\n",
       "\u001b[36m                                      469 rows omitted\u001b[0m"
      ]
     },
     "execution_count": 36,
     "metadata": {},
     "output_type": "execute_result"
    }
   ],
   "source": [
    "bananas=CSV.read(\"data/Banana.dat\",DataFrame,delim=\"\\t\")"
   ]
  },
  {
   "cell_type": "code",
   "execution_count": 40,
   "id": "9008b211",
   "metadata": {},
   "outputs": [
    {
     "data": {
      "text/plain": [
       "492"
      ]
     },
     "execution_count": 40,
     "metadata": {},
     "output_type": "execute_result"
    }
   ],
   "source": [
    "size(apples)[1]"
   ]
  },
  {
   "cell_type": "code",
   "execution_count": 81,
   "id": "099aa32f",
   "metadata": {},
   "outputs": [
    {
     "data": {
      "text/plain": [
       "492-element Vector{Vector{Float64}}:\n",
       " [0.5014661151631883, 0.22930441097534052]\n",
       " [0.4342254940829249, 0.1286670449863579]\n",
       " [0.4341196192611507, 0.1283343194344977]\n",
       " [0.43292152183068955, 0.12746865916878627]\n",
       " [0.4332916920418286, 0.12687320747253036]\n",
       " [0.43243837386176553, 0.12718165906107473]\n",
       " [0.4329222095428659, 0.127296222767609]\n",
       " [0.4311669294311532, 0.12615909751878962]\n",
       " [0.43186658074810524, 0.12593155154602345]\n",
       " [0.4303403153394724, 0.12640444560215408]\n",
       " [0.4302302502007849, 0.12569890987963223]\n",
       " [0.4850330408406459, 0.20774997291734418]\n",
       " [0.4289987119309, 0.12556138558335778]\n",
       " ⋮\n",
       " [0.4567426454785655, 0.13869407466403796]\n",
       " [0.4590486162219305, 0.1395517990505897]\n",
       " [0.4601581872919335, 0.14117849279714548]\n",
       " [0.46196735818763357, 0.1421665971353089]\n",
       " [0.4629390550656122, 0.1440671374165337]\n",
       " [0.46432223450752835, 0.14380783472718045]\n",
       " [0.46510595158618334, 0.1451697450733138]\n",
       " [0.4674854279681992, 0.14669161842995918]\n",
       " [0.4683520273050642, 0.1479623444588349]\n",
       " [0.47122560995595364, 0.15014409003925697]\n",
       " [0.5221495448895305, 0.19905118489113516]\n",
       " [0.4716205187110819, 0.15067156358946546]"
      ]
     },
     "execution_count": 81,
     "metadata": {},
     "output_type": "execute_result"
    }
   ],
   "source": [
    "x_apples=[[row.\" red \",row.\" green \"] for row in eachrow(apples)]"
   ]
  },
  {
   "cell_type": "code",
   "execution_count": 82,
   "id": "ac7a285f",
   "metadata": {},
   "outputs": [
    {
     "data": {
      "text/plain": [
       "490-element Vector{Vector{Float64}}:\n",
       " [0.5835067538126356, 0.500662309368192]\n",
       " [0.6096658836445241, 0.514868541076373]\n",
       " [0.61001222127424, 0.5157592947018083]\n",
       " [0.5680333392636676, 0.4929391278094967]\n",
       " [0.6097662880271572, 0.5148498882514222]\n",
       " [0.6080886893475433, 0.5146088965412025]\n",
       " [0.6086763977507786, 0.5154866998805462]\n",
       " [0.6092775365179625, 0.5164860873506747]\n",
       " [0.5690986557452848, 0.4945007761667278]\n",
       " [0.610284435646972, 0.5161825666623635]\n",
       " [0.607329117213896, 0.5153440757746397]\n",
       " [0.6083665640474657, 0.5146497517166334]\n",
       " [0.6063312071816673, 0.5137782965773128]\n",
       " ⋮\n",
       " [0.5291302161890399, 0.4403100385453329]\n",
       " [0.5287307644576823, 0.4565478406552493]\n",
       " [0.5240277326400172, 0.45237940480059413]\n",
       " [0.5239057876671794, 0.4525711129522229]\n",
       " [0.5238233433790978, 0.45140008185437314]\n",
       " [0.5224889335097888, 0.44997337957681116]\n",
       " [0.5175726263709806, 0.4443909309164674]\n",
       " [0.5159556048834634, 0.4419119496855347]\n",
       " [0.5175850178187539, 0.44482679017155075]\n",
       " [0.5103568171454631, 0.4360222868217053]\n",
       " [0.5088734503702476, 0.43433036580969037]\n",
       " [0.5282048652067627, 0.4401388105372926]"
      ]
     },
     "execution_count": 82,
     "metadata": {},
     "output_type": "execute_result"
    }
   ],
   "source": [
    "x_bananas=[[row.\" red \",row.\" green \"] for row in eachrow(bananas)]"
   ]
  },
  {
   "cell_type": "code",
   "execution_count": 83,
   "id": "b9399172",
   "metadata": {},
   "outputs": [
    {
     "data": {
      "text/plain": [
       "982-element Vector{Vector{Float64}}:\n",
       " [0.5014661151631883, 0.22930441097534052]\n",
       " [0.4342254940829249, 0.1286670449863579]\n",
       " [0.4341196192611507, 0.1283343194344977]\n",
       " [0.43292152183068955, 0.12746865916878627]\n",
       " [0.4332916920418286, 0.12687320747253036]\n",
       " [0.43243837386176553, 0.12718165906107473]\n",
       " [0.4329222095428659, 0.127296222767609]\n",
       " [0.4311669294311532, 0.12615909751878962]\n",
       " [0.43186658074810524, 0.12593155154602345]\n",
       " [0.4303403153394724, 0.12640444560215408]\n",
       " [0.4302302502007849, 0.12569890987963223]\n",
       " [0.4850330408406459, 0.20774997291734418]\n",
       " [0.4289987119309, 0.12556138558335778]\n",
       " ⋮\n",
       " [0.5291302161890399, 0.4403100385453329]\n",
       " [0.5287307644576823, 0.4565478406552493]\n",
       " [0.5240277326400172, 0.45237940480059413]\n",
       " [0.5239057876671794, 0.4525711129522229]\n",
       " [0.5238233433790978, 0.45140008185437314]\n",
       " [0.5224889335097888, 0.44997337957681116]\n",
       " [0.5175726263709806, 0.4443909309164674]\n",
       " [0.5159556048834634, 0.4419119496855347]\n",
       " [0.5175850178187539, 0.44482679017155075]\n",
       " [0.5103568171454631, 0.4360222868217053]\n",
       " [0.5088734503702476, 0.43433036580969037]\n",
       " [0.5282048652067627, 0.4401388105372926]"
      ]
     },
     "execution_count": 83,
     "metadata": {},
     "output_type": "execute_result"
    }
   ],
   "source": [
    "xs=[x_apples;x_bananas]"
   ]
  },
  {
   "cell_type": "code",
   "execution_count": 84,
   "id": "80d90ee8",
   "metadata": {},
   "outputs": [
    {
     "data": {
      "text/plain": [
       "982-element Vector{Int64}:\n",
       " 0\n",
       " 0\n",
       " 0\n",
       " 0\n",
       " 0\n",
       " 0\n",
       " 0\n",
       " 0\n",
       " 0\n",
       " 0\n",
       " 0\n",
       " 0\n",
       " 0\n",
       " ⋮\n",
       " 1\n",
       " 1\n",
       " 1\n",
       " 1\n",
       " 1\n",
       " 1\n",
       " 1\n",
       " 1\n",
       " 1\n",
       " 1\n",
       " 1\n",
       " 1"
      ]
     },
     "execution_count": 84,
     "metadata": {},
     "output_type": "execute_result"
    }
   ],
   "source": [
    "ys=[fill(0,size(x_apples));fill(1,size(x_bananas))]"
   ]
  },
  {
   "cell_type": "code",
   "execution_count": 85,
   "id": "d9904ef9",
   "metadata": {},
   "outputs": [
    {
     "data": {
      "text/plain": [
       "Dense(2 => 1, σ)    \u001b[90m# 3 parameters\u001b[39m"
      ]
     },
     "execution_count": 85,
     "metadata": {},
     "output_type": "execute_result"
    }
   ],
   "source": [
    "model = Dense(2,1,σ)"
   ]
  },
  {
   "cell_type": "code",
   "execution_count": 88,
   "id": "bc894b3e",
   "metadata": {},
   "outputs": [
    {
     "data": {
      "text/plain": [
       "1-element Vector{Float64}:\n",
       " 0.545343982427747"
      ]
     },
     "execution_count": 88,
     "metadata": {},
     "output_type": "execute_result"
    }
   ],
   "source": [
    "model(xs[end])"
   ]
  },
  {
   "cell_type": "code",
   "execution_count": 92,
   "id": "c11c929b",
   "metadata": {},
   "outputs": [
    {
     "data": {
      "text/plain": [
       "0.2887512152074748"
      ]
     },
     "execution_count": 92,
     "metadata": {},
     "output_type": "execute_result"
    }
   ],
   "source": [
    "loss=Flux.mse(model(xs[1]),ys[1])"
   ]
  },
  {
   "cell_type": "code",
   "execution_count": 94,
   "id": "edee88fb",
   "metadata": {},
   "outputs": [
    {
     "data": {
      "text/plain": [
       "Float64"
      ]
     },
     "execution_count": 94,
     "metadata": {},
     "output_type": "execute_result"
    }
   ],
   "source": [
    "typeof(loss)"
   ]
  },
  {
   "cell_type": "code",
   "execution_count": 95,
   "id": "e8a045e4",
   "metadata": {},
   "outputs": [
    {
     "ename": "LoadError",
     "evalue": "UndefVarError: Tracker not defined",
     "output_type": "error",
     "traceback": [
      "UndefVarError: Tracker not defined",
      ""
     ]
    }
   ],
   "source": [
    "using Flux.Tracker \n",
    "back!(loss)"
   ]
  },
  {
   "cell_type": "code",
   "execution_count": null,
   "id": "e16e030c",
   "metadata": {},
   "outputs": [],
   "source": []
  }
 ],
 "metadata": {
  "kernelspec": {
   "display_name": "Julia 1.8.4",
   "language": "julia",
   "name": "julia-1.8"
  },
  "language_info": {
   "file_extension": ".jl",
   "mimetype": "application/julia",
   "name": "julia",
   "version": "1.8.4"
  }
 },
 "nbformat": 4,
 "nbformat_minor": 5
}
