{
 "cells": [
  {
   "cell_type": "code",
   "execution_count": 1,
   "id": "e2876873",
   "metadata": {},
   "outputs": [],
   "source": [
    "using Flux, Statistics, ProgressMeter"
   ]
  },
  {
   "cell_type": "code",
   "execution_count": 2,
   "id": "37208c79",
   "metadata": {},
   "outputs": [
    {
     "data": {
      "text/plain": [
       "2×1000 Matrix{Float32}:\n",
       " 0.132733   0.165176  0.0542322  0.204965  …  0.851867  0.0567533  0.99939\n",
       " 0.0827045  0.473151  0.393471   0.505635     0.29307   0.0958287  0.849575"
      ]
     },
     "execution_count": 2,
     "metadata": {},
     "output_type": "execute_result"
    }
   ],
   "source": [
    "noisy = rand(Float32, 2, 1000)   "
   ]
  },
  {
   "cell_type": "code",
   "execution_count": 3,
   "id": "f5c41f9f",
   "metadata": {},
   "outputs": [
    {
     "data": {
      "text/plain": [
       "2×1000 Matrix{Float32}:\n",
       " 0.132733   0.165176  0.0542322  0.204965  …  0.851867  0.0567533  0.99939\n",
       " 0.0827045  0.473151  0.393471   0.505635     0.29307   0.0958287  0.849575"
      ]
     },
     "execution_count": 3,
     "metadata": {},
     "output_type": "execute_result"
    }
   ],
   "source": [
    "noisy"
   ]
  },
  {
   "cell_type": "code",
   "execution_count": 4,
   "id": "9bced04e",
   "metadata": {},
   "outputs": [
    {
     "data": {
      "text/plain": [
       "1000-element Vector{Bool}:\n",
       " 0\n",
       " 0\n",
       " 0\n",
       " 1\n",
       " 1\n",
       " 1\n",
       " 0\n",
       " 1\n",
       " 1\n",
       " 1\n",
       " 1\n",
       " 1\n",
       " 1\n",
       " ⋮\n",
       " 0\n",
       " 1\n",
       " 1\n",
       " 1\n",
       " 1\n",
       " 0\n",
       " 0\n",
       " 1\n",
       " 0\n",
       " 1\n",
       " 0\n",
       " 0"
      ]
     },
     "execution_count": 4,
     "metadata": {},
     "output_type": "execute_result"
    }
   ],
   "source": [
    "truth = [xor(col[1]>0.5, col[2]>0.5) for col in eachcol(noisy)] "
   ]
  },
  {
   "cell_type": "code",
   "execution_count": 5,
   "id": "a7cc94a7",
   "metadata": {},
   "outputs": [
    {
     "name": "stderr",
     "output_type": "stream",
     "text": [
      "┌ Info: The GPU function is being called but the GPU is not accessible. \n",
      "│ Defaulting back to the CPU. (No action is required if you want to run on the CPU).\n",
      "└ @ Flux /Users/suyash/.julia/packages/Flux/kq9Et/src/functor.jl:201\n"
     ]
    },
    {
     "data": {
      "text/plain": [
       "Chain(\n",
       "  Dense(2 => 3, tanh),                  \u001b[90m# 9 parameters\u001b[39m\n",
       "  BatchNorm(3),                         \u001b[90m# 6 parameters\u001b[39m\u001b[90m, plus 6\u001b[39m\n",
       "  Dense(3 => 2),                        \u001b[90m# 8 parameters\u001b[39m\n",
       "  NNlib.softmax,\n",
       ") \u001b[90m        # Total: 6 trainable arrays, \u001b[39m23 parameters,\n",
       "\u001b[90m          # plus 2 non-trainable, 6 parameters, summarysize \u001b[39m604 bytes."
      ]
     },
     "execution_count": 5,
     "metadata": {},
     "output_type": "execute_result"
    }
   ],
   "source": [
    "model = Chain(\n",
    "    Dense(2 => 3, tanh),   # activation function inside layer\n",
    "    BatchNorm(3),\n",
    "    Dense(3 => 2),\n",
    "    softmax) |> gpu "
   ]
  },
  {
   "cell_type": "code",
   "execution_count": 6,
   "id": "ce89445d",
   "metadata": {},
   "outputs": [
    {
     "data": {
      "text/plain": [
       "2×1000 Matrix{Float32}:\n",
       " 0.447656  0.532731  0.568654  0.522085  …  0.227936  0.493412  0.368437\n",
       " 0.552344  0.467269  0.431346  0.477915     0.772064  0.506588  0.631563"
      ]
     },
     "execution_count": 6,
     "metadata": {},
     "output_type": "execute_result"
    }
   ],
   "source": [
    "out1 = model(noisy |> gpu) |> cpu  "
   ]
  },
  {
   "cell_type": "code",
   "execution_count": 7,
   "id": "49da9aef",
   "metadata": {},
   "outputs": [
    {
     "data": {
      "text/plain": [
       "2×1000 OneHotMatrix(::Vector{UInt32}) with eltype Bool:\n",
       " ⋅  ⋅  ⋅  1  1  1  ⋅  1  1  1  1  1  1  …  ⋅  1  1  1  1  ⋅  ⋅  1  ⋅  1  ⋅  ⋅\n",
       " 1  1  1  ⋅  ⋅  ⋅  1  ⋅  ⋅  ⋅  ⋅  ⋅  ⋅     1  ⋅  ⋅  ⋅  ⋅  1  1  ⋅  1  ⋅  1  1"
      ]
     },
     "execution_count": 7,
     "metadata": {},
     "output_type": "execute_result"
    }
   ],
   "source": [
    "target = Flux.onehotbatch(truth, [true, false])    "
   ]
  },
  {
   "cell_type": "code",
   "execution_count": 8,
   "id": "db9cbde2",
   "metadata": {},
   "outputs": [],
   "source": [
    "loader = Flux.DataLoader((noisy, target) |> gpu, batchsize=64, shuffle=true);"
   ]
  },
  {
   "cell_type": "code",
   "execution_count": 9,
   "id": "4a5b3f2c",
   "metadata": {},
   "outputs": [
    {
     "data": {
      "text/plain": [
       "(layers = ((weight = \u001b[32mLeaf(Adam{Float64}(0.01, (0.9, 0.999), 1.0e-8), \u001b[39m(Float32[0.0 0.0; 0.0 0.0; 0.0 0.0], Float32[0.0 0.0; 0.0 0.0; 0.0 0.0], (0.9, 0.999))\u001b[32m)\u001b[39m, bias = \u001b[32mLeaf(Adam{Float64}(0.01, (0.9, 0.999), 1.0e-8), \u001b[39m(Float32[0.0, 0.0, 0.0], Float32[0.0, 0.0, 0.0], (0.9, 0.999))\u001b[32m)\u001b[39m, σ = ()), (λ = (), β = \u001b[32mLeaf(Adam{Float64}(0.01, (0.9, 0.999), 1.0e-8), \u001b[39m(Float32[0.0, 0.0, 0.0], Float32[0.0, 0.0, 0.0], (0.9, 0.999))\u001b[32m)\u001b[39m, γ = \u001b[32mLeaf(Adam{Float64}(0.01, (0.9, 0.999), 1.0e-8), \u001b[39m(Float32[0.0, 0.0, 0.0], Float32[0.0, 0.0, 0.0], (0.9, 0.999))\u001b[32m)\u001b[39m, μ = (), σ² = (), ϵ = (), momentum = (), affine = (), track_stats = (), active = (), chs = ()), (weight = \u001b[32mLeaf(Adam{Float64}(0.01, (0.9, 0.999), 1.0e-8), \u001b[39m(Float32[0.0 0.0 0.0; 0.0 0.0 0.0], Float32[0.0 0.0 0.0; 0.0 0.0 0.0], (0.9, 0.999))\u001b[32m)\u001b[39m, bias = \u001b[32mLeaf(Adam{Float64}(0.01, (0.9, 0.999), 1.0e-8), \u001b[39m(Float32[0.0, 0.0], Float32[0.0, 0.0], (0.9, 0.999))\u001b[32m)\u001b[39m, σ = ()), ()),)"
      ]
     },
     "execution_count": 9,
     "metadata": {},
     "output_type": "execute_result"
    }
   ],
   "source": [
    "optim = Flux.setup(Flux.Adam(0.01), model) "
   ]
  },
  {
   "cell_type": "code",
   "execution_count": null,
   "id": "5e7194c4",
   "metadata": {},
   "outputs": [],
   "source": [
    "losses = []\n",
    "@showprogress for epoch in 1:1_000\n",
    "    for (x, y) in loader\n",
    "        loss, grads = Flux.withgradient(model) do m\n",
    "            # Evaluate model and loss inside gradient context:\n",
    "            y_hat = m(x)\n",
    "            Flux.crossentropy(y_hat, y)\n",
    "        end\n",
    "        Flux.update!(optim, model, grads[1])\n",
    "        push!(losses, loss)  # logging, outside gradient context\n",
    "    end\n",
    "end"
   ]
  },
  {
   "cell_type": "code",
   "execution_count": 11,
   "id": "50217192",
   "metadata": {},
   "outputs": [
    {
     "data": {
      "text/plain": [
       "0.944"
      ]
     },
     "execution_count": 11,
     "metadata": {},
     "output_type": "execute_result"
    }
   ],
   "source": [
    "optim # parameters, momenta and output have all changed\n",
    "out2 = model(noisy |> gpu) |> cpu  # first row is prob. of true, second row p(false)\n",
    "\n",
    "mean((out2[1,:] .> 0.5) .== truth) "
   ]
  },
  {
   "cell_type": "code",
   "execution_count": null,
   "id": "8215a5db",
   "metadata": {},
   "outputs": [],
   "source": [
    "using Plots  # to draw the above figure\n",
    "\n",
    "p_true = scatter(noisy[1,:], noisy[2,:], zcolor=truth, title=\"True classification\", legend=false)\n",
    "p_raw =  scatter(noisy[1,:], noisy[2,:], zcolor=out1[1,:], title=\"Untrained network\", label=\"\", clims=(0,1))\n",
    "p_done = scatter(noisy[1,:], noisy[2,:], zcolor=out2[1,:], title=\"Trained network\", legend=false)\n",
    "\n",
    "plot(p_true, p_raw, p_done, layout=(1,3), size=(1000,330))"
   ]
  },
  {
   "cell_type": "code",
   "execution_count": null,
   "id": "f68dc12d",
   "metadata": {},
   "outputs": [],
   "source": []
  }
 ],
 "metadata": {
  "kernelspec": {
   "display_name": "Julia 1.7.1",
   "language": "julia",
   "name": "julia-1.7"
  },
  "language_info": {
   "file_extension": ".jl",
   "mimetype": "application/julia",
   "name": "julia",
   "version": "1.7.1"
  }
 },
 "nbformat": 4,
 "nbformat_minor": 5
}
